{
 "cells": [
  {
   "cell_type": "code",
   "execution_count": 9,
   "metadata": {},
   "outputs": [],
   "source": [
    "import  os\n",
    "import  json\n",
    "import  pickle\n",
    "import  matplotlib\n",
    "import  tensorflow         as      tf\n",
    "import  matplotlib.pyplot  as      plt\n",
    "import  pylab              as      pl\n",
    "import  numpy              as      np"
   ]
  },
  {
   "cell_type": "code",
   "execution_count": 10,
   "metadata": {},
   "outputs": [],
   "source": [
    "from    tensorflow.keras.models               import  model_from_json\n",
    "from    tensorflow.keras.optimizers           import  Adam, Nadam\n",
    "from    tensorflow.keras.preprocessing.image  import  ImageDataGenerator\n",
    "from    nbodykit.lab                          import  BigFileMesh\n",
    "from    sklearn.model_selection               import  train_test_split\n",
    "from    modelC                                import  prep_model_2D_C\n",
    "from    preprocess                            import  pprocess\n",
    "from    generator                             import  generator"
   ]
  },
  {
   "cell_type": "code",
   "execution_count": 11,
   "metadata": {},
   "outputs": [
    {
     "name": "stdout",
     "output_type": "stream",
     "text": [
      "WARNING:tensorflow:From /global/home/users/mjwilson/.conda/envs/ntf/lib/python3.7/site-packages/tensorflow/python/ops/resource_variable_ops.py:435: colocate_with (from tensorflow.python.framework.ops) is deprecated and will be removed in a future version.\n",
      "Instructions for updating:\n",
      "Colocations handled automatically by placer.\n"
     ]
    }
   ],
   "source": [
    "np.random.seed(seed=314)\n",
    "\n",
    "##  --  optimizers --                                                                                                                                                                                                      \n",
    "adam  =   Adam(lr=1.e-4, amsgrad=True, clipnorm=1.)\n",
    "nadam =  Nadam(lr=1.e-4, beta_1=0.9, beta_2=0.999, epsilon=None, schedule_decay=0.004, clipnorm=1.)"
   ]
  },
  {
   "cell_type": "code",
   "execution_count": 12,
   "metadata": {},
   "outputs": [],
   "source": [
    "def get_cosmos(nruns, nseeds, nslice):\n",
    "  ##  Get list of available cosmologies.                                                                                                                                                                                   \n",
    "  cosmos = np.loadtxt('cosmo.txt').tolist()\n",
    "  labels = []\n",
    "\n",
    "  ##  Generate labels where each cosmology is matched to nslice slices of nseeds sims.                                                                                                                                     \n",
    "  for x in cosmos:\n",
    "    for i in np.arange(nseeds):\n",
    "      for j in np.arange(nslice):\n",
    "        labels.append(x)\n",
    "\n",
    "  labels = np.array(labels)\n",
    "  nruns  = np.minimum(nruns, len(labels) * nseeds)\n",
    "\n",
    "  return  nruns, labels"
   ]
  },
  {
   "cell_type": "code",
   "execution_count": 13,
   "metadata": {},
   "outputs": [],
   "source": [
    "def plot(y, yhat, save=False):\n",
    "  pl.clf()\n",
    "\n",
    "  ymin  = 0.95 * y.min()\n",
    "  ymax  = 1.05 * y.max()\n",
    "\n",
    "  ys    = np.linspace(ymin, ymax, 10)\n",
    "\n",
    "  pl.plot(ys,  ys, 'k-',   alpha=0.6)\n",
    "  pl.plot(y, yhat, 'o', markersize=2)\n",
    "\n",
    "  pl.xlabel(r'$f$')\n",
    "  pl.ylabel(r'$\\hat f$')\n",
    "\n",
    "  pl.show()\n",
    "  ##  pl.savefig('mlf.pdf')\n",
    "  ##  os.system('xpdf mlf.pdf')"
   ]
  },
  {
   "cell_type": "code",
   "execution_count": 14,
   "metadata": {},
   "outputs": [
    {
     "name": "stdout",
     "output_type": "stream",
     "text": [
      "\n",
      "\n",
      "Preparing model.\n",
      "\n",
      "\n",
      "_________________________________________________________________\n",
      "Layer (type)                 Output Shape              Param #   \n",
      "=================================================================\n",
      "flatten (Flatten)            (None, 16384)             0         \n",
      "_________________________________________________________________\n",
      "dense (Dense)                (None, 32)                524320    \n",
      "_________________________________________________________________\n",
      "dense_1 (Dense)              (None, 32)                1056      \n",
      "_________________________________________________________________\n",
      "dense_2 (Dense)              (None, 1)                 33        \n",
      "=================================================================\n",
      "Total params: 525,409\n",
      "Trainable params: 525,409\n",
      "Non-trainable params: 0\n",
      "_________________________________________________________________\n"
     ]
    }
   ],
   "source": [
    "train, regress = True, True\n",
    "\n",
    "optimizer      =  nadam\n",
    "\n",
    "nseeds         =      9     ##  Number of random (seed) sims available in each cosmology.                                                                                                                                \n",
    "nslice         =     16     ##  Sliced 3D sim. into _nslice_ (x, z) slices.                                                                                                                                              \n",
    "nhot           =     10     ##  Supervised:  label sims by bin index in f;  nhot == # of bins.                                                                                                                           \n",
    "nmesh          =    128\n",
    "nruns          =    900     ##  Limit the total number of mocks input;  Set to e.g. 1e99 for all.                                                                                                                        \n",
    "epochs         =      1     ##  Number of actual (keras) epochs.                                                                                                                                                        \n",
    "valid_frac     =   0.15     ##  Split data X into fractions for train, validate/test.                                                                                                                                    \n",
    "  \n",
    "model          =  prep_model_2D_C(None, optimizer=optimizer, regress=regress)\n",
    "nruns, labels  =  get_cosmos(nruns, nseeds, nslice)"
   ]
  },
  {
   "cell_type": "code",
   "execution_count": null,
   "metadata": {},
   "outputs": [
    {
     "name": "stdout",
     "output_type": "stream",
     "text": [
      "WARNING:tensorflow:From /global/home/users/mjwilson/.conda/envs/ntf/lib/python3.7/site-packages/tensorflow/python/ops/math_ops.py:3066: to_int32 (from tensorflow.python.ops.math_ops) is deprecated and will be removed in a future version.\n",
      "Instructions for updating:\n",
      "Use tf.cast instead.\n"
     ]
    },
    {
     "name": "stderr",
     "output_type": "stream",
     "text": [
      "/global/home/users/mjwilson/.conda/envs/ntf/lib/python3.7/site-packages/numpy/core/numeric.py:538: ComplexWarning: Casting complex values to real discards the imaginary part\n",
      "  return array(a, dtype, copy=False, order=order)\n"
     ]
    },
    {
     "name": "stdout",
     "output_type": "stream",
     "text": [
      "14/80 [====>.........................] - ETA: 6:34 - loss: 0.0284 - acc: 0.0000e+00"
     ]
    }
   ],
   "source": [
    "if train:\n",
    "    ##  Note:  horizontal and vertical flipping of 2D slices.                                                                                                                                                              \n",
    "    train_gen = ImageDataGenerator(featurewise_center=False,\\\n",
    "                                   rotation_range=0,\\\n",
    "                                   width_shift_range=0.,\\\n",
    "                                   height_shift_range=0.,\\\n",
    "                                   horizontal_flip=True,\\\n",
    "                                   vertical_flip=True,\\\n",
    "                                   rescale=1.,\\\n",
    "                                   preprocessing_function=pprocess,\\\n",
    "                                   validation_split=valid_frac)  ##  Last Validation split.                                                                                                                                \n",
    "\n",
    "    ##  Fit whitening params.                                                                                                                                                                                              \n",
    "    ##  train_gen.fit(X)                                                                                                                                                                                                   \n",
    "\n",
    "    ##  Image generator for continous creation with pre-processing;  steps_per_epoch=10 * len(X_train) / 32.                                                                                                               \n",
    "    ##  train_gen.flow(X, y, batch_size=256, shuffle=True)                                                                                                                                                                 \n",
    "    history = model.fit_generator(generator('./filelist.txt', batch_size=32, nmesh=nmesh, nslice=nslice, regress=regress, nhot=nhot),\\\n",
    "                                  steps_per_epoch=80, epochs=epochs, use_multiprocessing=True)\n",
    "\n",
    "    ##  history = model.fit(X, y, validation_split=0.3, epochs=epochs)                                                                                                                                                     \n",
    "    (X_test, y_test) = generator('./filelist.txt', batch_size=32, nmesh=nmesh, nslice=nslice, regress=regress, nhot=nhot)\n",
    "\n",
    "    ##  Get current predictions.                                                                                                                                                                                           \n",
    "    y_hat = model.predict(X_test)\n",
    "\n",
    "    ##  Plot current prediction against truth (regression or supervised).                                                                                                                                                  \n",
    "    plot(y_test, y_hat)"
   ]
  },
  {
   "cell_type": "code",
   "execution_count": null,
   "metadata": {},
   "outputs": [],
   "source": []
  }
 ],
 "metadata": {
  "kernelspec": {
   "display_name": "NTF",
   "language": "python",
   "name": "ntf"
  },
  "language_info": {
   "codemirror_mode": {
    "name": "ipython",
    "version": 3
   },
   "file_extension": ".py",
   "mimetype": "text/x-python",
   "name": "python",
   "nbconvert_exporter": "python",
   "pygments_lexer": "ipython3",
   "version": "3.7.3"
  }
 },
 "nbformat": 4,
 "nbformat_minor": 2
}
