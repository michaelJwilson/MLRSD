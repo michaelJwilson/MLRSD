{
 "cells": [
  {
   "cell_type": "code",
   "execution_count": 1,
   "metadata": {},
   "outputs": [],
   "source": [
    "import  matplotlib\n",
    "import  pickle\n",
    "import  os\n",
    "import  json\n",
    "import  copy\n",
    "import  tensorflow         as      tf"
   ]
  },
  {
   "cell_type": "code",
   "execution_count": 11,
   "metadata": {},
   "outputs": [],
   "source": [
    "from    tensorflow.keras.utils                import  to_categorical\n",
    "from    tensorflow.keras.models               import  Sequential\n",
    "from    tensorflow.keras.layers               import  Dense, Conv2D, SeparableConv2D, Flatten, Conv3D, Dropout, MaxPooling2D, BatchNormalization, ReLU, LeakyReLU\n",
    "from    tensorflow.keras.models               import  model_from_json\n",
    "from    tensorflow.keras.optimizers           import  Adam, Nadam\n",
    "from    tensorflow.keras.preprocessing.image  import  ImageDataGenerator\n",
    "from    nbodykit.lab                          import  LinearMesh, cosmology, BigFileMesh, BigFileCatalog"
   ]
  },
  {
   "cell_type": "code",
   "execution_count": 15,
   "metadata": {},
   "outputs": [],
   "source": [
    "import  matplotlib.pyplot  as      plt\n",
    "import  pylab              as      pl\n",
    "import  numpy              as      np"
   ]
  },
  {
   "cell_type": "code",
   "execution_count": 3,
   "metadata": {},
   "outputs": [
    {
     "name": "stdout",
     "output_type": "stream",
     "text": [
      "WARNING:tensorflow:From /global/homes/m/mjwilson/.conda/envs/ntf/lib/python3.7/site-packages/tensorflow/python/ops/resource_variable_ops.py:435: colocate_with (from tensorflow.python.framework.ops) is deprecated and will be removed in a future version.\n",
      "Instructions for updating:\n",
      "Colocations handled automatically by placer.\n"
     ]
    }
   ],
   "source": [
    "##  Define optimizers. \n",
    "adam  = Adam(lr=1.e-4, amsgrad=True, clipnorm=1.)\n",
    "nadam = Nadam(lr=1.e-4, beta_1=0.9, beta_2=0.999, epsilon=None, schedule_decay=0.004, clipnorm=1.)"
   ]
  },
  {
   "cell_type": "code",
   "execution_count": 19,
   "metadata": {},
   "outputs": [],
   "source": [
    "def prep_model_2D_A(nhot):\n",
    "  ##  Loosely based on  https://arxiv.org/pdf/1807.08732.pdf\n",
    "  model = Sequential()\n",
    "\n",
    "  ##  layer output = relu(dot(W, input) + b);  E.g.  W (input_dimension, 16).\n",
    "  model.add(Conv2D(16, kernel_size=8, strides=2, padding='valid', activation='relu', input_shape=(128, 128, 1)))\n",
    "  model.add(Dropout(0.1))\n",
    "  model.add(Conv2D(32, kernel_size=4, strides=2, padding='valid', activation='relu'))\n",
    "  model.add(Dropout(0.1))\n",
    "  model.add(Conv2D(128, kernel_size=4, strides=2, padding='valid', activation='relu'))\n",
    "  model.add(Dropout(0.1))\n",
    "  model.add(Conv2D(64, kernel_size=4, strides=2, padding='valid', activation='relu'))\n",
    "  ##  model.add(Dropout(0.1))\n",
    "  model.add(Conv2D(256, kernel_size=4, strides=2, padding='valid', activation='relu', input_shape=(128, 128, 1)))  ##  16 output units. \n",
    "  ##  model.add(Dropout(0.1))\n",
    "\n",
    "  model.add(Flatten())\n",
    "\n",
    "  ##  nhot scores sum to one.                                                                                                                                                  \n",
    "  model.add(Dense(1024, activation='relu'))\n",
    "  model.add(Dense( 256, activation='relu'))\n",
    "\n",
    "  model.add(Dense(nhot, activation='softmax'))\n",
    "\n",
    "  model.compile(optimizer='adam', loss='categorical_crossentropy', metrics=['accuracy'])\n",
    "\n",
    "  model.summary()\n",
    "\n",
    "  return  model"
   ]
  },
  {
   "cell_type": "code",
   "execution_count": null,
   "metadata": {},
   "outputs": [],
   "source": []
  },
  {
   "cell_type": "code",
   "execution_count": 5,
   "metadata": {},
   "outputs": [],
   "source": [
    "def prep_model_2D_B(nhot, optimizer=adam):\n",
    "  model = Sequential()\n",
    "\n",
    "  model.add(SeparableConv2D(32, (3, 3), activation='linear', input_shape=(128, 128, 1))) \n",
    "  model.add(LeakyReLU(alpha=0.03))\n",
    "  model.add(MaxPooling2D((2, 2)))\n",
    "  model.add(SeparableConv2D(64, (3, 3), activation='linear')) \n",
    "  model.add(LeakyReLU(alpha=0.03))\n",
    "  model.add(MaxPooling2D((2, 2)))\n",
    "  model.add(SeparableConv2D(64, (3, 3), activation='linear'))\n",
    "  model.add(LeakyReLU(alpha=0.03))\n",
    "  model.add(BatchNormalization())   ##  Batch renormalization should come late.  \n",
    "  model.add(MaxPooling2D((2, 2)))\n",
    "  model.add(Flatten())\n",
    "  model.add(Dense(32, activation='relu'))\n",
    "  model.add(Dropout(0.1))\n",
    "  model.add(Dense(nhot, activation='softmax'))\n",
    "  model.add(Dropout(0.1))\n",
    "\n",
    "  model.compile(optimizer=adam, loss='categorical_crossentropy', metrics=['accuracy'])\n",
    "\n",
    "  model.summary()\n",
    "\n",
    "  return  model"
   ]
  },
  {
   "cell_type": "code",
   "execution_count": 6,
   "metadata": {},
   "outputs": [],
   "source": [
    "def pprocess(X):\n",
    "  ##  Pre-process each 2D n-body slice:\n",
    "  ##  --  Roll along random axis by random int npix\n",
    "  ##  --  Random sign (should be applied to delta).\n",
    "  ##  --  To be added:  Poisson sample. \n",
    "  ##  --  To be added:  Rescale amplitude by an arbitrary growth factor. \n",
    "  ##  \n",
    "  axis = np.random.randint(2)\n",
    "  npix = np.random.randint(128)\n",
    "\n",
    "  ##  note:  currently reading (1 + delta)?\n",
    "  sign = -1. ** np.random.randint(2)\n",
    "\n",
    "  return  sign * np.roll(X, npix, axis=axis)"
   ]
  },
  {
   "cell_type": "code",
   "execution_count": null,
   "metadata": {},
   "outputs": [],
   "source": [
    "##  Start of main script. "
   ]
  },
  {
   "cell_type": "code",
   "execution_count": 8,
   "metadata": {},
   "outputs": [],
   "source": [
    "nseeds  = 10     ##  Number of random (seed) sims available in each cosmology. \n",
    "nslice  = 10     ##  Sliced 3D sim. into _nslice_ (x, z) slices.  \n",
    "nhot    = 10     ##  Label sims by bin index in f;  nhot == # of bins. \n",
    "nruns   = 10     ##  Limit the number of mocks input;  None == All. \n",
    "nsplit  =  5     ##  Split loading, storing and learning of mocks into batches of size nsplit. \n",
    "ntile   =  1     ##  Number of load, train epochs through the data.      \n",
    "epochs  =  1     ##  Number of actual (keras) epochs. \n",
    "\n"
   ]
  },
  {
   "cell_type": "code",
   "execution_count": 12,
   "metadata": {},
   "outputs": [
    {
     "name": "stdout",
     "output_type": "stream",
     "text": [
      "WARNING:tensorflow:From /global/homes/m/mjwilson/.conda/envs/ntf/lib/python3.7/site-packages/tensorflow/python/keras/layers/core.py:143: calling dropout (from tensorflow.python.ops.nn_ops) with keep_prob is deprecated and will be removed in a future version.\n",
      "Instructions for updating:\n",
      "Please use `rate` instead of `keep_prob`. Rate should be set to `rate = 1 - keep_prob`.\n",
      "_________________________________________________________________\n",
      "Layer (type)                 Output Shape              Param #   \n",
      "=================================================================\n",
      "separable_conv2d (SeparableC (None, 126, 126, 32)      73        \n",
      "_________________________________________________________________\n",
      "leaky_re_lu (LeakyReLU)      (None, 126, 126, 32)      0         \n",
      "_________________________________________________________________\n",
      "max_pooling2d (MaxPooling2D) (None, 63, 63, 32)        0         \n",
      "_________________________________________________________________\n",
      "separable_conv2d_1 (Separabl (None, 61, 61, 64)        2400      \n",
      "_________________________________________________________________\n",
      "leaky_re_lu_1 (LeakyReLU)    (None, 61, 61, 64)        0         \n",
      "_________________________________________________________________\n",
      "max_pooling2d_1 (MaxPooling2 (None, 30, 30, 64)        0         \n",
      "_________________________________________________________________\n",
      "separable_conv2d_2 (Separabl (None, 28, 28, 64)        4736      \n",
      "_________________________________________________________________\n",
      "leaky_re_lu_2 (LeakyReLU)    (None, 28, 28, 64)        0         \n",
      "_________________________________________________________________\n",
      "batch_normalization_v1 (Batc (None, 28, 28, 64)        256       \n",
      "_________________________________________________________________\n",
      "max_pooling2d_2 (MaxPooling2 (None, 14, 14, 64)        0         \n",
      "_________________________________________________________________\n",
      "flatten (Flatten)            (None, 12544)             0         \n",
      "_________________________________________________________________\n",
      "dense (Dense)                (None, 32)                401440    \n",
      "_________________________________________________________________\n",
      "dropout (Dropout)            (None, 32)                0         \n",
      "_________________________________________________________________\n",
      "dense_1 (Dense)              (None, 10)                330       \n",
      "_________________________________________________________________\n",
      "dropout_1 (Dropout)          (None, 10)                0         \n",
      "=================================================================\n",
      "Total params: 409,235\n",
      "Trainable params: 409,107\n",
      "Non-trainable params: 128\n",
      "_________________________________________________________________\n"
     ]
    }
   ],
   "source": [
    "train   = True\n",
    "\n",
    "##  Set up the model.\n",
    "model   = prep_model_2D_B(nhot, optimizer=adam)"
   ]
  },
  {
   "cell_type": "code",
   "execution_count": null,
   "metadata": {},
   "outputs": [],
   "source": []
  },
  {
   "cell_type": "code",
   "execution_count": 16,
   "metadata": {},
   "outputs": [],
   "source": [
    "##  Get list of available cosmologies. \n",
    "cosmos  = np.loadtxt('cosmo.txt').tolist()\n",
    "labels  = []\n",
    "  \n",
    "for x in cosmos:\n",
    "  for i in np.arange(nseeds):\n",
    "    for j in np.arange(nslice):\n",
    "      labels.append(x)"
   ]
  },
  {
   "cell_type": "code",
   "execution_count": 17,
   "metadata": {},
   "outputs": [],
   "source": [
    "if nruns is None:\n",
    "  nruns   =  len(cosmos) * nseeds\n",
    "\n",
    "labels  =  np.array(labels)\n",
    "ntimes  =  np.floor(nruns / nsplit)\n",
    "\n",
    "LOS     = [0,0,1]\n",
    "\n",
    "##  Bin sims in f and use bin index as a label.                                                                                                                                                 \n",
    "fmin    = .25 ** 0.545\n",
    "fmax    = .35 ** 0.545\n",
    " \n",
    "##  Number of one-hot encodings == number of bins. \n",
    "bins    = np.linspace(fmin, fmax, nhot)"
   ]
  },
  {
   "cell_type": "code",
   "execution_count": 23,
   "metadata": {},
   "outputs": [
    {
     "name": "stdout",
     "output_type": "stream",
     "text": [
      "Loading 0\n",
      "Loading 1\n",
      "Loading 2\n",
      "Loading 3\n",
      "Loading 4\n",
      "2/2 [==============================] - 1s 412ms/step - loss: 2.9510 - acc: 0.8600\n",
      "Loading 5\n",
      "Loading 6\n",
      "Loading 7\n",
      "Loading 8\n",
      "Loading 9\n",
      "2/2 [==============================] - 1s 402ms/step - loss: 3.1728 - acc: 0.8400\n"
     ]
    }
   ],
   "source": [
    "##  Load sims and train in explicit batches.\n",
    "##  Note:  **  Tile ** 4 times to go through sims (rank ordered in cosmology).\n",
    "for split in np.tile(np.arange(ntimes), ntile): \n",
    "  zero   = np.int(split) * nsplit  \n",
    "  \n",
    "  ##  128 x 128 x 128 pixels, with 60K items in train and 10K in validation. \n",
    "  X      = np.zeros((nsplit * nslice, 128, 128, 1))\n",
    "\n",
    "  ##  Loop over mocks in split. \n",
    "  for iid in np.arange(nsplit):\n",
    "    print('Loading %d' % (zero + iid))\n",
    "\n",
    "    fpath           = '/global/cscratch1/sd/mjwilson/MLRSD/fastpm/fpm-%d-1.0000' % (zero + iid)\n",
    "      \n",
    "    mesh            = BigFileMesh(fpath, dataset='1/Field', mode='real', header='Header').preview()\n",
    "    \n",
    "    for sslice in np.arange(nslice):\n",
    "      ##  Split 3D sim into _nslice_ 2D (x, z) slices. \n",
    "      X[iid + nsplit * sslice, :, :, 0] = mesh[:, sslice, :]\n",
    "        \n",
    "        \n",
    "  X_train           = X[:, :, :, :]    \n",
    "\n",
    "  if train:\n",
    "    ##  Note:  horizontal and vertical flipping of 2D slices.  \n",
    "    train_gen       = ImageDataGenerator(featurewise_center=False,\\\n",
    "                                         rotation_range=0,\\\n",
    "                                         width_shift_range=0.,\\\n",
    "                                         height_shift_range=0.,\\\n",
    "                                         horizontal_flip=True,\\\n",
    "                                         vertical_flip=True,\\\n",
    "                                         rescale=1.,\\\n",
    "                                         preprocessing_function=pprocess,\\\n",
    "                                         validation_split=0.15)\n",
    "\n",
    "    ##  Fit whitening params. \n",
    "    train_gen.fit(X_train)\n",
    "\n",
    "    _labels         = labels[zero * nslice: (zero + nsplit) * nslice]\n",
    "    _y_train        = np.digitize(_labels[:,2], bins) \n",
    "\n",
    "    ##  One-hot encode target column.\n",
    "    y_train         = to_categorical(_y_train, num_classes=nhot)\n",
    "\n",
    "    ##  validation_data = (X_test, y_test)\n",
    "    ##  history         = model.fit(X_train, y_train, epochs=20, batch_size=32, shuffle=True, validation_split=0.15)\n",
    "\n",
    "    ##  Image generator for continous cretion with pre-processing. \n",
    "    history         = model.fit_generator(train_gen.flow(X_train, y_train, batch_size=32, shuffle=True),\\\n",
    "                                            steps_per_epoch=10 * len(X_train) / 32, epochs=epochs)\n",
    "      \n",
    "    history         = history.history\n",
    "  \n",
    "    pickle.dump(history, open('history/history_%d.p' % zero, 'wb'))\n",
    "\n",
    "    model_json      = model.to_json()\n",
    "\n",
    "    with open('model/model_%d.json' % zero, 'w') as json_file:\n",
    "      json_file.write(model_json)\n",
    "\n",
    "    ##  model.save_weights('model.h5')\n",
    "    \n",
    "  else:\n",
    "    history = pickle.load(open('history/history_%d.p' % zero, 'rb'))\n",
    "    \n",
    "    ##\n",
    "    ofile  = open('model/model_%d.json' % zero, 'r')\n",
    "    ojson  = ofile.read()\n",
    "\n",
    "    ofile.close()\n",
    "\n",
    "    ##  model  = model_from_json(ojson)\n",
    "    ##  model.load_weights('model.h5')\n",
    " \n",
    "    model.compile(loss='categorical_crossentropy', optimizer=nadam, metrics=['accuracy'])"
   ]
  },
  {
   "cell_type": "code",
   "execution_count": 25,
   "metadata": {},
   "outputs": [
    {
     "name": "stdout",
     "output_type": "stream",
     "text": [
      "Test loss: 2.021605348587036\n",
      "Test accuracy: 1.0\n",
      "loss\n"
     ]
    },
    {
     "data": {
      "image/png": "[encoded data removed]",
      "text/plain": [
       "<Figure size 432x288 with 1 Axes>"
      ]
     },
     "metadata": {
      "needs_background": "light"
     },
     "output_type": "display_data"
    },
    {
     "name": "stdout",
     "output_type": "stream",
     "text": [
      "acc\n"
     ]
    },
    {
     "data": {
      "image/png": "[encoded data removed]",
      "text/plain": [
       "<Figure size 432x288 with 1 Axes>"
      ]
     },
     "metadata": {
      "needs_background": "light"
     },
     "output_type": "display_data"
    }
   ],
   "source": [
    "  ##  Test the predictions;  Should be on test set rather than full set. \n",
    "  predictions  =  model.predict(X_train)\n",
    "  score        =  model.evaluate(X_train, y_train, verbose=0)\n",
    "\n",
    "  print('Test loss:',     score[0])\n",
    "  print('Test accuracy:', score[1])\n",
    "\n",
    "  for stat in history.keys():\n",
    "    print(stat)\n",
    "\n",
    "    tstat  = history[stat]\n",
    "    epochs = range(1, 1 + len(tstat))\n",
    "\n",
    "    plt.plot(epochs, tstat, 'bo', label='Training')\n",
    "    plt.xlabel('EPOCHS')\n",
    "    plt.ylabel(stat.upper())\n",
    "    plt.legend()\n",
    "    plt.show()"
   ]
  },
  {
   "cell_type": "code",
   "execution_count": null,
   "metadata": {},
   "outputs": [],
   "source": []
  }
 ],
 "metadata": {
  "kernelspec": {
   "display_name": "NTF",
   "language": "python",
   "name": "ntf"
  },
  "language_info": {
   "codemirror_mode": {
    "name": "ipython",
    "version": 3
   },
   "file_extension": ".py",
   "mimetype": "text/x-python",
   "name": "python",
   "nbconvert_exporter": "python",
   "pygments_lexer": "ipython3",
   "version": "3.7.3"
  }
 },
 "nbformat": 4,
 "nbformat_minor": 2
}
