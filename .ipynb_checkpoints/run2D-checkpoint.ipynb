{
 "cells": [
  {
   "cell_type": "code",
   "execution_count": null,
   "metadata": {},
   "outputs": [],
   "source": [
    "import  os\n",
    "import  json\n",
    "import  pickle\n",
    "import  matplotlib\n",
    "import  tensorflow         as      tf\n",
    "import  matplotlib.pyplot  as      plt\n",
    "import  pylab              as      pl\n",
    "import  numpy              as      np"
   ]
  },
  {
   "cell_type": "code",
   "execution_count": null,
   "metadata": {},
   "outputs": [],
   "source": [
    "from    tensorflow.keras.models               import  model_from_json\n",
    "from    tensorflow.keras.optimizers           import  Adam, Nadam\n",
    "from    tensorflow.keras.preprocessing.image  import  ImageDataGenerator\n",
    "from    nbodykit.lab                          import  BigFileMesh\n",
    "from    sklearn.model_selection               import  train_test_split\n",
    "from    modelC                                import  prep_model_2D_C\n",
    "from    preprocess                            import  pprocess\n",
    "from    generator                             import  generator"
   ]
  },
  {
   "cell_type": "code",
   "execution_count": null,
   "metadata": {},
   "outputs": [],
   "source": [
    "np.random.seed(seed=314)\n",
    "\n",
    "##  --  optimizers --                                                                                                                                                                                                      \n",
    "adam  =   Adam(lr=1.e-4, amsgrad=True, clipnorm=1.)\n",
    "nadam =  Nadam(lr=1.e-4, beta_1=0.9, beta_2=0.999, epsilon=None, schedule_decay=0.004, clipnorm=1.)"
   ]
  },
  {
   "cell_type": "code",
   "execution_count": null,
   "metadata": {},
   "outputs": [],
   "source": [
    "def get_cosmos(nruns, nseeds, nslice):\n",
    "  ##  Get list of available cosmologies.                                                                                                                                                                                   \n",
    "  cosmos = np.loadtxt('cosmo.txt').tolist()\n",
    "  labels = []\n",
    "\n",
    "  ##  Generate labels where each cosmology is matched to nslice slices of nseeds sims.                                                                                                                                     \n",
    "  for x in cosmos:\n",
    "    for i in np.arange(nseeds):\n",
    "      for j in np.arange(nslice):\n",
    "        labels.append(x)\n",
    "\n",
    "  labels = np.array(labels)\n",
    "  nruns  = np.minimum(nruns, len(labels) * nseeds)\n",
    "\n",
    "  return  nruns, labels"
   ]
  },
  {
   "cell_type": "code",
   "execution_count": null,
   "metadata": {},
   "outputs": [],
   "source": [
    "def plot(y, yhat, save=False):\n",
    "  pl.clf()\n",
    "\n",
    "  ymin  = 0.95 * y.min()\n",
    "  ymax  = 1.05 * y.max()\n",
    "\n",
    "  ys    = np.linspace(ymin, ymax, 10)\n",
    "\n",
    "  pl.plot(ys,  ys, 'k-',   alpha=0.6)\n",
    "  pl.plot(y, yhat, 'o', markersize=2)\n",
    "\n",
    "  pl.xlabel(r'$f$')\n",
    "  pl.ylabel(r'$\\hat f$')\n",
    "\n",
    "  pl.show()\n",
    "  ##  pl.savefig('mlf.pdf')\n",
    "  ##  os.system('xpdf mlf.pdf')"
   ]
  },
  {
   "cell_type": "code",
   "execution_count": null,
   "metadata": {},
   "outputs": [],
   "source": [
    "train, regress = True, True\n",
    "\n",
    "optimizer      =  nadam\n",
    "\n",
    "nseeds         =      9     ##  Number of random (seed) sims available in each cosmology.                                                                                                                                \n",
    "nslice         =     16     ##  Sliced 3D sim. into _nslice_ (x, z) slices.                                                                                                                                              \n",
    "nhot           =     10     ##  Supervised:  label sims by bin index in f;  nhot == # of bins.                                                                                                                           \n",
    "nmesh          =    128\n",
    "nruns          =    900     ##  Limit the total number of mocks input;  Set to e.g. 1e99 for all.                                                                                                                        \n",
    "epochs         =      1     ##  Number of actual (keras) epochs.                                                                                                                                                        \n",
    "valid_frac     =   0.15     ##  Split data X into fractions for train, validate/test.                                                                                                                                    \n",
    "  \n",
    "model          =  prep_model_2D_C(None, optimizer=optimizer, regress=regress)\n",
    "nruns, labels  =  get_cosmos(nruns, nseeds, nslice)"
   ]
  },
  {
   "cell_type": "code",
   "execution_count": 22,
   "metadata": {},
   "outputs": [
    {
     "name": "stdout",
     "output_type": "stream",
     "text": [
      "80/80 [==============================] - 75s 932ms/step - loss: 0.0562 - acc: 0.0000e+00\n"
     ]
    },
    {
     "ename": "ValueError",
     "evalue": "too many values to unpack (expected 2)",
     "output_type": "error",
     "traceback": [
      "\u001b[0;31m---------------------------------------------------------------------------\u001b[0m",
      "\u001b[0;31mValueError\u001b[0m                                Traceback (most recent call last)",
      "\u001b[0;32m<ipython-input-22-4dd0e2f1f795>\u001b[0m in \u001b[0;36m<module>\u001b[0;34m\u001b[0m\n\u001b[1;32m     20\u001b[0m \u001b[0;34m\u001b[0m\u001b[0m\n\u001b[1;32m     21\u001b[0m     \u001b[0;31m##  history = model.fit(X, y, validation_split=0.3, epochs=epochs)\u001b[0m\u001b[0;34m\u001b[0m\u001b[0;34m\u001b[0m\u001b[0;34m\u001b[0m\u001b[0m\n\u001b[0;32m---> 22\u001b[0;31m     \u001b[0;34m(\u001b[0m\u001b[0mX_test\u001b[0m\u001b[0;34m,\u001b[0m \u001b[0my_test\u001b[0m\u001b[0;34m)\u001b[0m \u001b[0;34m=\u001b[0m \u001b[0mgenerator\u001b[0m\u001b[0;34m(\u001b[0m\u001b[0;34m'./filelist.txt'\u001b[0m\u001b[0;34m,\u001b[0m \u001b[0mbatch_size\u001b[0m\u001b[0;34m=\u001b[0m\u001b[0;36m32\u001b[0m\u001b[0;34m,\u001b[0m \u001b[0mnmesh\u001b[0m\u001b[0;34m=\u001b[0m\u001b[0mnmesh\u001b[0m\u001b[0;34m,\u001b[0m \u001b[0mnslice\u001b[0m\u001b[0;34m=\u001b[0m\u001b[0mnslice\u001b[0m\u001b[0;34m,\u001b[0m \u001b[0mregress\u001b[0m\u001b[0;34m=\u001b[0m\u001b[0mregress\u001b[0m\u001b[0;34m,\u001b[0m \u001b[0mnhot\u001b[0m\u001b[0;34m=\u001b[0m\u001b[0mnhot\u001b[0m\u001b[0;34m)\u001b[0m\u001b[0;34m\u001b[0m\u001b[0;34m\u001b[0m\u001b[0m\n\u001b[0m\u001b[1;32m     23\u001b[0m \u001b[0;34m\u001b[0m\u001b[0m\n\u001b[1;32m     24\u001b[0m     \u001b[0;31m##  Get current predictions.\u001b[0m\u001b[0;34m\u001b[0m\u001b[0;34m\u001b[0m\u001b[0;34m\u001b[0m\u001b[0m\n",
      "\u001b[0;31mValueError\u001b[0m: too many values to unpack (expected 2)"
     ]
    }
   ],
   "source": [
    "if train:\n",
    "    ##  Note:  horizontal and vertical flipping of 2D slices.                                                                                                                                                              \n",
    "    train_gen = ImageDataGenerator(featurewise_center=False,\\\n",
    "                                   rotation_range=0,\\\n",
    "                                   width_shift_range=0.,\\\n",
    "                                   height_shift_range=0.,\\\n",
    "                                   horizontal_flip=True,\\\n",
    "                                   vertical_flip=True,\\\n",
    "                                   rescale=1.,\\\n",
    "                                   preprocessing_function=pprocess,\\\n",
    "                                   validation_split=valid_frac)  ##  Last Validation split.                                                                                                                                \n",
    "\n",
    "    ##  Fit whitening params.                                                                                                                                                                                              \n",
    "    ##  train_gen.fit(X)                                                                                                                                                                                                   \n",
    "\n",
    "    ##  Image generator for continous creation with pre-processing;  steps_per_epoch=10 * len(X_train) / 32.                                                                                                               \n",
    "    ##  train_gen.flow(X, y, batch_size=256, shuffle=True)                                                                                                                                                                 \n",
    "    history = model.fit_generator(generator('./filelist.txt', batch_size=32, nmesh=nmesh, nslice=nslice, regress=regress, nhot=nhot),\\\n",
    "                                  steps_per_epoch=80, epochs=epochs, use_multiprocessing=True)\n",
    "\n",
    "    ##  history = model.fit(X, y, validation_split=0.3, epochs=epochs)                                                                                                                                                     \n",
    "    (X_test, y_test) = generator('./filelist.txt', batch_size=32, nmesh=nmesh, nslice=nslice, regress=regress, nhot=nhot)\n",
    "\n",
    "    ##  Get current predictions.                                                                                                                                                                                           \n",
    "    y_hat = model.predict(X_test)\n",
    "\n",
    "    ##  Plot current prediction against truth (regression or supervised).                                                                                                                                                  \n",
    "    plot(y_test, y_hat)"
   ]
  }
 ],
 "metadata": {
  "kernelspec": {
   "display_name": "NTF",
   "language": "python",
   "name": "ntf"
  },
  "language_info": {
   "codemirror_mode": {
    "name": "ipython",
    "version": 3
   },
   "file_extension": ".py",
   "mimetype": "text/x-python",
   "name": "python",
   "nbconvert_exporter": "python",
   "pygments_lexer": "ipython3",
   "version": "3.7.3"
  }
 },
 "nbformat": 4,
 "nbformat_minor": 2
}
